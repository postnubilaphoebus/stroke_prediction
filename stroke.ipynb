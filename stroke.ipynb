{
 "metadata": {
  "language_info": {
   "codemirror_mode": {
    "name": "ipython",
    "version": 3
   },
   "file_extension": ".py",
   "mimetype": "text/x-python",
   "name": "python",
   "nbconvert_exporter": "python",
   "pygments_lexer": "ipython3",
   "version": "3.7.6-final"
  },
  "orig_nbformat": 2,
  "kernelspec": {
   "name": "python3",
   "display_name": "Python 3.7.6 64-bit ('base': conda)",
   "metadata": {
    "interpreter": {
     "hash": "ec11f424437667129d6e8c58eb37d626430f16263e2080f7ff4e3118d21cf4fc"
    }
   }
  }
 },
 "nbformat": 4,
 "nbformat_minor": 2,
 "cells": [
  {
   "cell_type": "code",
   "execution_count": 14,
   "metadata": {},
   "outputs": [
    {
     "output_type": "stream",
     "name": "stdout",
     "text": [
      "         id  gender   age  hypertension  heart_disease ever_married  \\\n0      9046    Male  67.0             0              1          Yes   \n1     51676  Female  61.0             0              0          Yes   \n2     31112    Male  80.0             0              1          Yes   \n3     60182  Female  49.0             0              0          Yes   \n4      1665  Female  79.0             1              0          Yes   \n...     ...     ...   ...           ...            ...          ...   \n5105  18234  Female  80.0             1              0          Yes   \n5106  44873  Female  81.0             0              0          Yes   \n5107  19723  Female  35.0             0              0          Yes   \n5108  37544    Male  51.0             0              0          Yes   \n5109  44679  Female  44.0             0              0          Yes   \n\n          work_type Residence_type  avg_glucose_level   bmi   smoking_status  \\\n0           Private          Urban             228.69  36.6  formerly smoked   \n1     Self-employed          Rural             202.21  -1.0     never smoked   \n2           Private          Rural             105.92  32.5     never smoked   \n3           Private          Urban             171.23  34.4           smokes   \n4     Self-employed          Rural             174.12  24.0     never smoked   \n...             ...            ...                ...   ...              ...   \n5105        Private          Urban              83.75  -1.0     never smoked   \n5106  Self-employed          Urban             125.20  40.0     never smoked   \n5107  Self-employed          Rural              82.99  30.6     never smoked   \n5108        Private          Rural             166.29  25.6  formerly smoked   \n5109       Govt_job          Urban              85.28  26.2          Unknown   \n\n      stroke  \n0          1  \n1          1  \n2          1  \n3          1  \n4          1  \n...      ...  \n5105       0  \n5106       0  \n5107       0  \n5108       0  \n5109       0  \n\n[5110 rows x 12 columns]\n"
     ]
    },
    {
     "output_type": "execute_result",
     "data": {
      "text/plain": [
       "array([[6.710e+02, 1.000e+00, 8.800e+01, ..., 2.400e+02, 1.000e+00,\n",
       "        1.000e+00],\n",
       "       [3.610e+03, 0.000e+00, 8.200e+01, ..., 0.000e+00, 2.000e+00,\n",
       "        1.000e+00],\n",
       "       [2.151e+03, 1.000e+00, 1.010e+02, ..., 1.990e+02, 2.000e+00,\n",
       "        1.000e+00],\n",
       "       ...,\n",
       "       [1.396e+03, 0.000e+00, 5.600e+01, ..., 1.800e+02, 2.000e+00,\n",
       "        0.000e+00],\n",
       "       [2.601e+03, 1.000e+00, 7.200e+01, ..., 1.300e+02, 1.000e+00,\n",
       "        0.000e+00],\n",
       "       [3.089e+03, 0.000e+00, 6.500e+01, ..., 1.360e+02, 0.000e+00,\n",
       "        0.000e+00]])"
      ]
     },
     "metadata": {},
     "execution_count": 14
    }
   ],
   "source": [
    "import numpy as np \n",
    "import pandas as pd \n",
    "\n",
    "# Reading in the stroke data\n",
    "data = pd.read_csv('./data/healthcare-dataset-stroke-data.csv')\n",
    "\n",
    "# Convert missing values to -1\n",
    "data[\"bmi\"].fillna(-1, inplace = True) \n",
    "\n",
    "print(data)\n",
    "\n",
    "# Converting Strings to numerical data\n",
    "\n",
    "from sklearn.preprocessing import OrdinalEncoder\n",
    "enc = OrdinalEncoder()\n",
    "enc.fit(data)\n",
    "enc.categories_\n",
    "enc.transform(data)"
   ]
  },
  {
   "cell_type": "code",
   "execution_count": null,
   "metadata": {},
   "outputs": [],
   "source": []
  },
  {
   "cell_type": "code",
   "execution_count": null,
   "metadata": {},
   "outputs": [],
   "source": []
  }
 ]
}